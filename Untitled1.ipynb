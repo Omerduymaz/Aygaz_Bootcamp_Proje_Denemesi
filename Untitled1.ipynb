# Colab Uyumlu Hayvan Sınıflandırma Projesi

## 1. Gerekli Kütüphanelerin Yüklenmesi

import tensorflow as tf
from tensorflow.keras.models import Sequential
from tensorflow.keras.layers import Conv2D, MaxPooling2D, Flatten, Dense, Dropout
from tensorflow.keras.preprocessing.image import ImageDataGenerator
import matplotlib.pyplot as plt
import os

# TensorFlow versiyon kontrolü
def check_tensorflow_version():
    print(f"TensorFlow Version: {tf.__version__}")

check_tensorflow_version()

## 2. Veri Seti Hazırlığı

# Veri seti indirme

dataset_url = "https://storage.googleapis.com/mledu-datasets/cats_and_dogs_filtered.zip"
data_dir = tf.keras.utils.get_file('cats_and_dogs_filtered.zip', origin=dataset_url, extract=True)
data_dir = os.path.join(os.path.dirname(data_dir), 'cats_and_dogs_filtered')

train_dir = os.path.join(data_dir, 'train')
validation_dir = os.path.join(data_dir, 'validation')

# Görüntüleri ön işleme ve veri artırımı
data_gen = ImageDataGenerator(
    rescale=1.0/255,
    rotation_range=20,
    width_shift_range=0.2,
    height_shift_range=0.2,
    shear_range=0.2,
    zoom_range=0.2,
    horizontal_flip=True
)

train_data_gen = data_gen.flow_from_directory(
    train_dir,
    target_size=(128, 128),  # Daha uygun giriş boyutu
    batch_size=32,
    class_mode='binary'
)

val_data_gen = ImageDataGenerator(rescale=1.0/255).flow_from_directory(
    validation_dir,
    target_size=(128, 128),
    batch_size=32,
    class_mode='binary'
)

## 3. Veri Seti Keşfi

def plot_sample_images(data_gen):
    classes = list(data_gen.class_indices.keys())
    images, labels = next(data_gen)

    plt.figure(figsize=(10, 10))
    for i in range(9):
        plt.subplot(3, 3, i + 1)
        plt.imshow(images[i])
        plt.title(classes[int(labels[i])])
        plt.axis('off')
    plt.show()

plot_sample_images(train_data_gen)

## 4. Model Tasarımı

def create_model(learning_rate=0.0001):
    model = Sequential([
        Conv2D(32, (3, 3), activation='relu', input_shape=(128, 128, 3)),
        MaxPooling2D(2, 2),
        Conv2D(64, (3, 3), activation='relu'),
        MaxPooling2D(2, 2),
        Conv2D(128, (3, 3), activation='relu'),
        MaxPooling2D(2, 2),
        Flatten(),
        Dense(512, activation='relu'),
        Dropout(0.5),
        Dense(1, activation='sigmoid')
    ])
    model.compile(optimizer=tf.keras.optimizers.Adam(learning_rate=learning_rate),
                  loss='binary_crossentropy',
                  metrics=['accuracy'])
    return model

model = create_model(learning_rate=0.0001)

## 5. Modelin Eğitimi

# Epoch sayısını artırarak model performansını iyileştirme
epochs = 20
history = model.fit(
    train_data_gen,
    epochs=epochs,
    validation_data=val_data_gen
)

## 6. Performansın Değerlendirilmesi

def plot_performance(history):
    acc = history.history['accuracy']
    val_acc = history.history['val_accuracy']
    loss = history.history['loss']
    val_loss = history.history['val_loss']

    epochs_range = range(epochs)

    plt.figure(figsize=(12, 5))

    # Doğruluk Grafiği
    plt.subplot(1, 2, 1)
    plt.plot(epochs_range, acc, label='Eğitim Doğruluğu')
    plt.plot(epochs_range, val_acc, label='Doğrulama Doğruluğu')
    plt.legend(loc='lower right')
    plt.title('Eğitim ve Doğrulama Doğruluğu')
    plt.xlabel('Epochs')
    plt.ylabel('Doğruluk')

    # Kayıp Grafiği
    plt.subplot(1, 2, 2)
    plt.plot(epochs_range, loss, label='Eğitim Kaybı')
    plt.plot(epochs_range, val_loss, label='Doğrulama Kaybı')
    plt.legend(loc='upper right')
    plt.title('Eğitim ve Doğrulama Kaybı')
    plt.xlabel('Epochs')
    plt.ylabel('Kayıp')

    plt.show()

plot_performance(history)

# Açıklamalar: 
# 1. Doğruluk grafiğinden eğitim sürecinde modelin başarısı gözlemlenebilir.
# 2. Kaybın düşme eğilimi modelin iyi öğrenme gösterdiğini işaret eder, ancak doğrulama verisindeki sapmalara dikkat edilmelidir.

## 7. Modeli Test Etme

def predict_sample(image_path, model):
    img = tf.keras.utils.load_img(image_path, target_size=(128, 128))
    img_array = tf.keras.utils.img_to_array(img) / 255.0
    img_array = tf.expand_dims(img_array, 0)
    prediction = model.predict(img_array)
    class_label = 'Dog' if prediction[0] > 0.5 else 'Cat'
    print(f"Tahmin edilen sınıf: {class_label}")

# Test için bir görüntü yolu giriniz.
# predict_sample("path_to_image.jpg", model)
